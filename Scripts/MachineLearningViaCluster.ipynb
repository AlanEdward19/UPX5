{
 "cells": [
  {
   "attachments": {},
   "cell_type": "markdown",
   "metadata": {},
   "source": [
    "Calculo com machine learning utilizando cluster"
   ]
  },
  {
   "cell_type": "code",
   "execution_count": 4,
   "metadata": {},
   "outputs": [
    {
     "name": "stderr",
     "output_type": "stream",
     "text": [
      "c:\\Users\\Alan-\\AppData\\Local\\Programs\\Python\\Python39\\lib\\site-packages\\sklearn\\cluster\\_kmeans.py:870: FutureWarning: The default value of `n_init` will change from 10 to 'auto' in 1.4. Set the value of `n_init` explicitly to suppress the warning\n",
      "  warnings.warn(\n"
     ]
    },
    {
     "name": "stdout",
     "output_type": "stream",
     "text": [
      "     Eletrodomestico      Comodo  Gasto        Data  cluster  DesvioPadrao\n",
      "0          Geladeira     Cozinha  500.0  13/03/2023        1         415.0\n",
      "1    Ar condicionado      Quarto   90.0  13/03/2023        1          83.0\n",
      "2   Maquina de Lavar  Lavanderia   45.0  13/03/2023        3          10.0\n",
      "3          Televisao        Sala   35.0  13/03/2023        9          10.0\n",
      "4  Chuveiro eletrico    Banheiro   30.0  13/03/2023        0          25.0\n",
      "5         Ventilador      Quarto   20.0  13/03/2023        5          25.0\n",
      "6         Microondas     Cozinha   25.0  13/03/2023        8          17.0\n",
      "7         Computador  Escritorio   15.0  13/03/2023        2          10.0\n",
      "8  Secador de Cabelo    Banheiro    8.0  13/03/2023        7           4.0\n"
     ]
    },
    {
     "name": "stderr",
     "output_type": "stream",
     "text": [
      "C:\\Users\\Alan-\\AppData\\Local\\Temp\\ipykernel_25788\\1168138386.py:18: ConvergenceWarning: Number of distinct clusters (11) found smaller than n_clusters (14). Possibly due to duplicate points in X.\n",
      "  kmeans = KMeans(n_clusters=len(df1_grouped)).fit(df1_grouped[['Gasto']])\n"
     ]
    },
    {
     "data": {
      "text/plain": [
       "['../Model/clusterbrain.joblib']"
      ]
     },
     "execution_count": 4,
     "metadata": {},
     "output_type": "execute_result"
    }
   ],
   "source": [
    "import pandas as pd\n",
    "from sklearn.cluster import KMeans\n",
    "import numpy as np\n",
    "import re\n",
    "\n",
    "def AlterarGastos(dataframe):\n",
    "    dataframe['Gasto'] = dataframe['Gasto'].apply(lambda x: float(re.sub(r'KWh$', '', x).replace(',', '.')) if isinstance(x, str) else x)\n",
    "    return dataframe\n",
    "\n",
    "# Lendo arquivos CSV\n",
    "df1 = AlterarGastos(pd.read_csv('../Files/PresetArquivoTrain.csv', delimiter=';'))\n",
    "df3 = AlterarGastos(pd.read_csv('../Files/PresetArquivoTeste.csv', delimiter=';'))\n",
    "\n",
    "# Agrupando dados por eletrodoméstico e computando a média de gastos\n",
    "df1_grouped = df1.groupby(['Eletrodomestico']).mean()\n",
    "\n",
    "# Ajustando o modelo KMeans com os valores médios de gastos\n",
    "kmeans = KMeans(n_clusters=len(df1_grouped)).fit(df1_grouped[['Gasto']])\n",
    "\n",
    "# Prevendo os clusters dos valores médios dos gastos\n",
    "df1_grouped['cluster'] = kmeans.predict(df1_grouped[['Gasto']])\n",
    "\n",
    "# Prevendo o cluster de cada valor de gasto do segundo arquivo\n",
    "df3['cluster'] = kmeans.predict(df3[['Gasto']])\n",
    "\n",
    "# Computando as médias de gastos por cluster do segundo arquivo\n",
    "df3_clustered = df3.groupby(['Eletrodomestico', 'cluster']).mean().reset_index()\n",
    "\n",
    "# Merge entre os dados do primeiro arquivo e os dados do segundo arquivo com as médias de gastos por cluster\n",
    "df_merged = pd.merge(df1_grouped.reset_index(), df3_clustered, on=['Eletrodomestico', 'cluster'], suffixes=('_train', '_test'))\n",
    "\n",
    "# Calculando o desvio em relação à média de gastos por cluster para cada linha do segundo arquivo\n",
    "df3['DesvioPadrao'] = np.abs(df3['Gasto'] - df_merged['Gasto_test'])\n",
    "\n",
    "# Selecionando as linhas do segundo arquivo que estão fora do padrão\n",
    "limite = 0.1  # limite de 10% de desvio em relação à média por cluster\n",
    "df_fora_do_padrao = df3[df3['DesvioPadrao'] > limite]\n",
    "\n",
    "# Exibindo as linhas do segundo arquivo que estão fora do padrão\n",
    "print(df_fora_do_padrao)\n",
    "\n",
    "#Salvar modelo para utilizar sem ter que gerar novamente\n",
    "from joblib import dump\n",
    "\n",
    "dump(kmeans, '../Model/clusterbrain.joblib')"
   ]
  },
  {
   "attachments": {},
   "cell_type": "markdown",
   "metadata": {},
   "source": [
    "Modelo ja treinado, so rodar os predicts\n",
    "\n",
    "Exemplos no campo de cima, onde ta o treinamento"
   ]
  },
  {
   "cell_type": "code",
   "execution_count": 9,
   "metadata": {},
   "outputs": [],
   "source": [
    "from joblib import load\n",
    "\n",
    "model = load('../Model/clusterbrain.joblib')"
   ]
  },
  {
   "attachments": {},
   "cell_type": "markdown",
   "metadata": {},
   "source": [
    "Calculo sem machine learning"
   ]
  },
  {
   "cell_type": "code",
   "execution_count": 1,
   "metadata": {},
   "outputs": [
    {
     "name": "stdout",
     "output_type": "stream",
     "text": [
      "      Eletrodomestico    Comodo  Gasto        Data  MediaGasto  DesvioPadrao\n",
      "0           Geladeira   Cozinha  500.0  13/03/2023  277.500000    222.500000\n",
      "1     Ar condicionado    Quarto   90.0  13/03/2023   85.000000      5.000000\n",
      "3           Televisao      Sala   35.0  13/03/2023   31.666667      3.333333\n",
      "4   Chuveiro eletrico  Banheiro   30.0  13/03/2023   32.500000      2.500000\n",
      "5          Ventilador    Quarto   20.0  13/03/2023   17.333333      2.666667\n",
      "9      Forno Eletrico   Cozinha   50.0  13/03/2023   47.500000      2.500000\n",
      "12    Ar condicionado      Sala   75.0  14/03/2023   85.000000     10.000000\n",
      "13  Chuveiro eletrico  Banheiro   35.0  14/03/2023   32.500000      2.500000\n",
      "14          Televisao    Quarto   25.0  14/03/2023   31.666667      6.666667\n",
      "15         Ventilador      Sala   12.0  14/03/2023   17.333333      5.333333\n",
      "17     Forno Eletrico   Cozinha   45.0  14/03/2023   47.500000      2.500000\n",
      "21          Geladeira   Cozinha   55.0  15/03/2023  277.500000    222.500000\n",
      "22          Televisao      Sala   35.0  15/03/2023   31.666667      3.333333\n",
      "23         Ventilador    Quarto   20.0  15/03/2023   17.333333      2.666667\n",
      "25    Ar condicionado    Quarto   90.0  15/03/2023   85.000000      5.000000\n"
     ]
    }
   ],
   "source": [
    "import pandas as pd\n",
    "import re\n",
    "\n",
    "def AlterarGastos(dataframe):\n",
    "    dataframe['Gasto'] = dataframe['Gasto'].apply(lambda x: float(re.sub(r'KWh$', '', x).replace(',', '.')) if isinstance(x, str) else x)\n",
    "    return dataframe\n",
    "\n",
    "# Lendo arquivos CSV\n",
    "df1 = AlterarGastos(pd.read_csv('../Files/PresetArquivoTrain.csv', delimiter=';'))\n",
    "df3 = AlterarGastos(pd.read_csv('../Files/PresetArquivoTeste.csv', delimiter=';'))\n",
    "\n",
    "# Cria um dicionário com as médias de gasto por eletrodoméstico presentes no DataFrame df1\n",
    "media_gastos = {}\n",
    "for eletrodomestico in df1['Eletrodomestico'].unique():\n",
    "    media_gastos[eletrodomestico] = df1[df1['Eletrodomestico'] == eletrodomestico]['Gasto'].mean()\n",
    "\n",
    "# Cria um dicionário com as médias de gasto por eletrodoméstico presentes no DataFrame df3\n",
    "media_gastos_novos = {}\n",
    "for eletrodomestico in df3['Eletrodomestico'].unique():\n",
    "    media_gastos_novos[eletrodomestico] = df3[df3['Eletrodomestico'] == eletrodomestico]['Gasto'].mean()\n",
    "\n",
    "# Adiciona a média de gasto correspondente a cada linha do DataFrame df3\n",
    "df3['MediaGasto'] = df3['Eletrodomestico'].apply(lambda x: media_gastos_novos[x] if x in media_gastos_novos else media_gastos[x])\n",
    "\n",
    "# Calcula o desvio de cada linha em relação à média correspondente\n",
    "df3['DesvioPadrao'] = abs(df3['Gasto'] - df3['MediaGasto'])\n",
    "\n",
    "# Separa as linhas com desvio de mais de 10% da média em um DataFrame separado\n",
    "limite = 0.1  # limite de 10% de desvio em relação à média\n",
    "df_fora_do_padrao = df3[df3['DesvioPadrao'] > limite]\n",
    "\n",
    "# Exibe as linhas fora do padrão\n",
    "print(df_fora_do_padrao)"
   ]
  }
 ],
 "metadata": {
  "kernelspec": {
   "display_name": "Python 3",
   "language": "python",
   "name": "python3"
  },
  "language_info": {
   "codemirror_mode": {
    "name": "ipython",
    "version": 3
   },
   "file_extension": ".py",
   "mimetype": "text/x-python",
   "name": "python",
   "nbconvert_exporter": "python",
   "pygments_lexer": "ipython3",
   "version": "3.9.12"
  },
  "orig_nbformat": 4
 },
 "nbformat": 4,
 "nbformat_minor": 2
}
