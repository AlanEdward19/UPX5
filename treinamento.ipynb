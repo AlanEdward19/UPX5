{
 "cells": [
  {
   "attachments": {},
   "cell_type": "markdown",
   "metadata": {},
   "source": [
    "Importações"
   ]
  },
  {
   "cell_type": "code",
   "execution_count": null,
   "metadata": {},
   "outputs": [],
   "source": [
    "import pandas as pd\n",
    "from sklearn.preprocessing import OneHotEncoder\n",
    "from sklearn.compose import ColumnTransformer\n",
    "from sklearn.ensemble import IsolationForest\n",
    "import re"
   ]
  },
  {
   "attachments": {},
   "cell_type": "markdown",
   "metadata": {},
   "source": [
    "Funções"
   ]
  },
  {
   "cell_type": "code",
   "execution_count": null,
   "metadata": {},
   "outputs": [],
   "source": [
    "#Aplicar regex para transformar valores da coluna \"Gasto\"\n",
    "def AlterarGastos(dataframe):\n",
    "    return dataframe['Gasto'].apply(lambda x: float(re.sub(r'KWh$', '', x).replace(',', '.')))"
   ]
  },
  {
   "attachments": {},
   "cell_type": "markdown",
   "metadata": {},
   "source": [
    "Leitura de Arquivos e formatações"
   ]
  },
  {
   "cell_type": "code",
   "execution_count": null,
   "metadata": {},
   "outputs": [],
   "source": [
    "# Lendo o arquivo CSV de treinamento e criando um DataFrame, e tratando\n",
    "df_train = AlterarGastos(pd.read_csv('PresetArquivoTrain.csv', sep=';', header=0))\n",
    "\n",
    "# Lendo o arquivo CSV de teste e criando um DataFrame, e tratando\n",
    "df_test = AlterarGastos(pd.read_csv('PresetArquivoTeste.csv', sep=';', header=0))"
   ]
  },
  {
   "attachments": {},
   "cell_type": "markdown",
   "metadata": {},
   "source": [
    "Separando conjunto de dados"
   ]
  },
  {
   "cell_type": "code",
   "execution_count": null,
   "metadata": {},
   "outputs": [],
   "source": [
    "# Separando as características (features) do seu conjunto de dados de treinamento\n",
    "X_train = df_train[['Eletrodomestico', 'Comodo', 'Gasto']]\n",
    "\n",
    "# Separando as características (features) do seu conjunto de dados de teste\n",
    "X_test = df_test[['Eletrodomestico', 'Comodo', 'Gasto']]"
   ]
  },
  {
   "attachments": {},
   "cell_type": "markdown",
   "metadata": {},
   "source": [
    "Criando ordenador para codificar colunas não numericas"
   ]
  },
  {
   "cell_type": "code",
   "execution_count": null,
   "metadata": {},
   "outputs": [],
   "source": [
    "# Definindo as colunas que serão codificadas\n",
    "cat_cols = ['Eletrodomestico', 'Comodo']\n",
    "\n",
    "# Criando o objeto OneHotEncoder\n",
    "ohe = OneHotEncoder()\n",
    "\n",
    "# Criando o objeto ColumnTransformer para aplicar o OneHotEncoder nas colunas desejadas\n",
    "ct = ColumnTransformer([('encoder', ohe, cat_cols)], remainder='passthrough')"
   ]
  },
  {
   "attachments": {},
   "cell_type": "markdown",
   "metadata": {},
   "source": [
    "Aplicando codificação nas colunas"
   ]
  },
  {
   "cell_type": "code",
   "execution_count": null,
   "metadata": {},
   "outputs": [],
   "source": [
    "# Aplicando o ColumnTransformer nos dados de treinamento\n",
    "X_train = ct.fit_transform(X_train)\n",
    "\n",
    "# Aplicando o ColumnTransformer nos dados de teste\n",
    "X_test = ct.transform(X_test)"
   ]
  },
  {
   "attachments": {},
   "cell_type": "markdown",
   "metadata": {},
   "source": [
    "Criando IsolationForest"
   ]
  },
  {
   "cell_type": "code",
   "execution_count": null,
   "metadata": {},
   "outputs": [],
   "source": [
    "# Criando um objeto Isolation Forest com os parâmetros padrão\n",
    "clf = IsolationForest(random_state=0)"
   ]
  },
  {
   "attachments": {},
   "cell_type": "markdown",
   "metadata": {},
   "source": [
    "Treinando Modelo"
   ]
  },
  {
   "cell_type": "code",
   "execution_count": null,
   "metadata": {},
   "outputs": [],
   "source": [
    "# Treinando o modelo com os dados de treinamento\n",
    "clf.fit(X_train)"
   ]
  },
  {
   "attachments": {},
   "cell_type": "markdown",
   "metadata": {},
   "source": [
    "Realizando a previsão"
   ]
  },
  {
   "cell_type": "code",
   "execution_count": null,
   "metadata": {},
   "outputs": [],
   "source": [
    "# Realizando a previsão (labels) do modelo no conjunto de dados de teste\n",
    "y_pred = clf.predict(X_test)"
   ]
  },
  {
   "attachments": {},
   "cell_type": "markdown",
   "metadata": {},
   "source": [
    "Separando as anomalias"
   ]
  },
  {
   "cell_type": "code",
   "execution_count": 15,
   "metadata": {},
   "outputs": [
    {
     "name": "stdout",
     "output_type": "stream",
     "text": [
      "Anomalias encontradas:\n",
      "Empty DataFrame\n",
      "Columns: []\n",
      "Index: []\n"
     ]
    }
   ],
   "source": [
    "# Criando um DataFrame com as anomalias encontradas\n",
    "df_anomaly = pd.DataFrame()\n",
    "for i, y in enumerate(y_pred):\n",
    "    if y == -1:\n",
    "        df_row = df_test.iloc[[i]]\n",
    "        if df_row['Eletrodomestico'].values[0] in df_train['Eletrodomestico'].unique():\n",
    "            df_train_gasto = df_train[df_train['Eletrodomestico'] == df_row['Eletrodomestico'].values[0]]['Gasto']\n",
    "            std_dev = df_train_gasto.std()\n",
    "            mean = df_train_gasto.mean()\n",
    "            if df_row['Gasto'].values[0] > (mean + 3*std_dev) or df_row['Gasto'].values[0] < (mean - 3*std_dev):\n",
    "                df_anomaly = pd.concat([df_anomaly, df_row])\n",
    "\n",
    "# Imprimindo as anomalias encontradas\n",
    "print(\"Anomalias encontradas:\")\n",
    "print(df_anomaly)"
   ]
  },
  {
   "cell_type": "markdown",
   "metadata": {},
   "source": []
  }
 ],
 "metadata": {
  "kernelspec": {
   "display_name": "Python 3",
   "language": "python",
   "name": "python3"
  },
  "language_info": {
   "codemirror_mode": {
    "name": "ipython",
    "version": 3
   },
   "file_extension": ".py",
   "mimetype": "text/x-python",
   "name": "python",
   "nbconvert_exporter": "python",
   "pygments_lexer": "ipython3",
   "version": "3.9.12"
  },
  "orig_nbformat": 4
 },
 "nbformat": 4,
 "nbformat_minor": 2
}
